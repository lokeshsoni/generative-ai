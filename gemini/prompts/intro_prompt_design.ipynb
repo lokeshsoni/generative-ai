{
 "cells": [
  {
   "cell_type": "markdown",
   "metadata": {
    "id": "JAPoU8Sm5E6e"
   },
   "source": [
    "# Prompt Design - Best Practices"
   ]
  },
  {
   "cell_type": "markdown",
   "metadata": {
    "id": "tvgnzT1CKxrO"
   },
   "source": [
    "## Overview\n",
    "\n",
    "This notebook covers the essentials of prompt engineering, including some best practices.\n",
    "\n",
    "Learn more about prompt design in the [official documentation](https://cloud.google.com/vertex-ai/docs/generative-ai/text/text-overview).\n",
    "\n",
    "In this notebook, you learn best practices around prompt engineering -- how to design prompts to improve the quality of your responses.\n",
    "\n",
    "This notebook covers the following best practices for prompt engineering:\n",
    "\n",
    "- Be concise\n",
    "- Be specific and well-defined\n",
    "- Ask one task at a time\n",
    "- Turn generative tasks into classification tasks\n",
    "- Improve response quality by including examples"
   ]
  },
  {
   "cell_type": "markdown",
   "metadata": {
    "id": "61RBz8LLbxCR"
   },
   "source": [
    "## Getting Started"
   ]
  },
  {
   "cell_type": "markdown",
   "metadata": {
    "id": "No17Cw5hgx12"
   },
   "source": [
    "### Install Google Gen AI SDK\n"
   ]
  },
  {
   "cell_type": "code",
   "execution_count": 1,
   "metadata": {
    "id": "tFy3H3aPgx12",
    "tags": []
   },
   "outputs": [
    {
     "name": "stdout",
     "output_type": "stream",
     "text": [
      "\n",
      "\u001b[1m[\u001b[0m\u001b[34;49mnotice\u001b[0m\u001b[1;39;49m]\u001b[0m\u001b[39;49m A new release of pip is available: \u001b[0m\u001b[31;49m25.0\u001b[0m\u001b[39;49m -> \u001b[0m\u001b[32;49m25.0.1\u001b[0m\n",
      "\u001b[1m[\u001b[0m\u001b[34;49mnotice\u001b[0m\u001b[1;39;49m]\u001b[0m\u001b[39;49m To update, run: \u001b[0m\u001b[32;49mpip install --upgrade pip\u001b[0m\n",
      "Note: you may need to restart the kernel to use updated packages.\n"
     ]
    }
   ],
   "source": [
    "%pip install --upgrade --quiet google-genai"
   ]
  },
  {
   "cell_type": "markdown",
   "metadata": {
    "id": "R5Xep4W9lq-Z"
   },
   "source": [
    "### Restart runtime\n",
    "\n",
    "To use the newly installed packages in this Jupyter runtime, you must restart the runtime. You can do this by running the cell below, which will restart the current kernel."
   ]
  },
  {
   "cell_type": "code",
   "execution_count": 2,
   "metadata": {
    "id": "XRvKdaPDTznN",
    "tags": []
   },
   "outputs": [
    {
     "data": {
      "text/plain": [
       "{'status': 'ok', 'restart': True}"
      ]
     },
     "execution_count": 2,
     "metadata": {},
     "output_type": "execute_result"
    }
   ],
   "source": [
    "import IPython\n",
    "\n",
    "app = IPython.Application.instance()\n",
    "app.kernel.do_shutdown(True)"
   ]
  },
  {
   "cell_type": "markdown",
   "metadata": {
    "id": "SbmM4z7FOBpM"
   },
   "source": [
    "<div class=\"alert alert-block alert-warning\">\n",
    "<b>⚠️ The kernel is going to restart. Please wait until it is finished before continuing to the next step. ⚠️</b>\n",
    "</div>\n"
   ]
  },
  {
   "cell_type": "markdown",
   "metadata": {
    "id": "06489bd14f16"
   },
   "source": [
    "### Import libraries\n"
   ]
  },
  {
   "cell_type": "code",
   "execution_count": 3,
   "metadata": {
    "id": "154137022fb6",
    "tags": []
   },
   "outputs": [],
   "source": [
    "from IPython.display import Markdown, display\n",
    "from google import genai\n",
    "from google.genai.types import GenerateContentConfig"
   ]
  },
  {
   "cell_type": "markdown",
   "metadata": {
    "id": "DF4l8DTdWgPY"
   },
   "source": [
    "### Set Google Cloud project information and create client\n",
    "\n",
    "To get started using Vertex AI, you must have an existing Google Cloud project and [enable the Vertex AI API](https://console.cloud.google.com/flows/enableapi?apiid=aiplatform.googleapis.com).\n",
    "\n",
    "Learn more about [setting up a project and a development environment](https://cloud.google.com/vertex-ai/docs/start/cloud-environment)."
   ]
  },
  {
   "cell_type": "code",
   "execution_count": 4,
   "metadata": {
    "id": "Nqwi-5ufWp_B",
    "tags": []
   },
   "outputs": [],
   "source": [
    "import os\n",
    "\n",
    "PROJECT_ID = \"qwiklabs-gcp-01-683f8ab5f951\"\n",
    "LOCATION = \"europe-west4\""
   ]
  },
  {
   "cell_type": "code",
   "execution_count": 5,
   "metadata": {
    "id": "QqRWdPGmW3NJ",
    "tags": []
   },
   "outputs": [],
   "source": [
    "client = genai.Client(vertexai=True, project=PROJECT_ID, location=LOCATION)"
   ]
  },
  {
   "cell_type": "markdown",
   "metadata": {
    "id": "OnFPpCRtXRl4"
   },
   "source": [
    "### Load model\n",
    "\n",
    "Learn more about all [Gemini models on Vertex AI](https://cloud.google.com/vertex-ai/generative-ai/docs/learn/models#gemini-models)."
   ]
  },
  {
   "cell_type": "code",
   "execution_count": 6,
   "metadata": {
    "id": "IQYu_9SvXQah",
    "tags": []
   },
   "outputs": [],
   "source": [
    "MODEL_ID = \"gemini-2.0-flash-001\""
   ]
  },
  {
   "cell_type": "markdown",
   "metadata": {
    "id": "cVOtUNJ5X0PY"
   },
   "source": [
    "## Prompt engineering best practices"
   ]
  },
  {
   "cell_type": "markdown",
   "metadata": {
    "id": "uv_e0fEPX60q"
   },
   "source": [
    "Prompt engineering is all about how to design your prompts so that the response is what you were indeed hoping to see.\n",
    "\n",
    "The idea of using \"unfancy\" prompts is to minimize the noise in your prompt to reduce the possibility of the LLM misinterpreting the intent of the prompt. Below are a few guidelines on how to engineer \"unfancy\" prompts.\n",
    "\n",
    "In this section, you'll cover the following best practices when engineering prompts:\n",
    "\n",
    "* Be concise\n",
    "* Be specific, and well-defined\n",
    "* Ask one task at a time\n",
    "* Improve response quality by including examples\n",
    "* Turn generative tasks to classification tasks to improve safety"
   ]
  },
  {
   "cell_type": "markdown",
   "metadata": {
    "id": "0pY4XX0OX9_Y"
   },
   "source": [
    "### Be concise"
   ]
  },
  {
   "cell_type": "markdown",
   "metadata": {
    "id": "xlRpxyxGYA1K"
   },
   "source": [
    "🛑 Not recommended. The prompt below is unnecessarily verbose."
   ]
  },
  {
   "cell_type": "code",
   "execution_count": 8,
   "metadata": {
    "id": "YKV4G-CfXdbi",
    "tags": []
   },
   "outputs": [
    {
     "data": {
      "text/markdown": [
       "Okay, here are some name ideas for a dried flower shop, playing with different angles:\n",
       "\n",
       "**Emphasizing \"Dried\" & Longevity:**\n",
       "\n",
       "*   **The Everbloom:** (Classic, suggests forever blooming)\n",
       "*   **Lasting Petals:** (Simple, clear, and evocative)\n",
       "*   **Dried & Dusted:** (A bit quirky and memorable)\n",
       "*   **Forever Flora:** (Elegant and directly conveys the focus)\n",
       "*   **The Preserved Posy:** (Charming and emphasizes preservation)\n",
       "*   **Dried Blooms Atelier:** (Sophisticated, hints at artistry)\n",
       "*   **Timeless Blossoms:** (Highlights the enduring nature)\n",
       "*   **Second Bloom:** (Suggests a second life for the flowers)\n",
       "\n",
       "**Emphasizing Beauty & Artistry:**\n",
       "\n",
       "*   **Golden Fields Botanicals:** (Evokes natural beauty and artistry)\n",
       "*   **The Still Life Florist:** (Connects to art and captures the stillness)\n",
       "*   **Petrified Petals:** (Edgy and memorable)\n",
       "*   **Rustic Stems:** (Highlights natural and earthy qualities)\n",
       "*   **The Dryad's Garden:** (Mystical and suggests a connection to nature)\n",
       "*   **Botanical Echoes:** (Poetic and hints at memories)\n",
       "*   **The Gilded Bloom:** (Luxurious and emphasizes the beauty)\n",
       "\n",
       "**Emphasizing Location/Personality (Needs Customization):**\n",
       "\n",
       "*   **[Your Town/Area] Dried Flower Co.:** (Simple, local, and direct)\n",
       "*   **[Your Name]'s Dried Flowers:** (Personal and trustworthy)\n",
       "*   **The [Color/Adjective] Stem:** (E.g., The Dusty Rose Stem, The Golden Stem - adds personality)\n",
       "\n",
       "**Unique & Quirky:**\n",
       "\n",
       "*   **The Flower Alchemist:** (Suggests transformation and artistry)\n",
       "*   **Petal Remains:** (Intriguing and slightly morbid)\n",
       "*   **The Vintage Vase:** (Hints at a curated, nostalgic feel)\n",
       "*   **Dust & Bloom:** (Contrast that captures the essence of dried flowers)\n",
       "*   **The Conservatory of Curiosities:** (Suggests a collection of unique items)\n",
       "*   **Stone Petal:** (Strong image, blends nature and permanence)\n",
       "\n",
       "**Tips for Choosing the Best Name:**\n",
       "\n",
       "*   **Check Availability:** Make sure the name isn't already in use (business name, domain name, social media handles).\n",
       "*   **Say it Out Loud:** Does it sound good? Is it easy to remember and pronounce?\n",
       "*   **Consider Your Target Audience:** Does the name appeal to the type of customer you want to attract? (e.g., sophisticated, rustic, modern)\n",
       "*   **Get Feedback:** Ask friends, family, or potential customers for their opinions.\n",
       "*   **Think About Your Brand:** Does the name reflect the overall aesthetic and feel of your shop?\n",
       "\n",
       "Good luck! Let me know if you want more ideas!\n"
      ],
      "text/plain": [
       "<IPython.core.display.Markdown object>"
      ]
     },
     "metadata": {},
     "output_type": "display_data"
    }
   ],
   "source": [
    "prompt = \"What do you think could be a good name for a flower shop that specializes in selling bouquets of dried flowers more than fresh flowers?\"\n",
    "\n",
    "response = client.models.generate_content(model=MODEL_ID, contents=prompt)\n",
    "display(Markdown(response.text))"
   ]
  },
  {
   "cell_type": "markdown",
   "metadata": {
    "id": "YrJexRHJYnmC"
   },
   "source": [
    "✅ Recommended. The prompt below is to the point and concise."
   ]
  },
  {
   "cell_type": "code",
   "execution_count": 9,
   "metadata": {
    "id": "VHetn9lCYrXB",
    "tags": []
   },
   "outputs": [
    {
     "data": {
      "text/markdown": [
       "Okay, here are some name suggestions for a dried flower shop, playing on different aspects like:\n",
       "\n",
       "**Evoking Beauty & Timelessness:**\n",
       "\n",
       "*   Eternal Blooms\n",
       "*   Lasting Petals\n",
       "*   Preserved Posies\n",
       "*   Amber Flora\n",
       "*   Golden Hour Florals\n",
       "*   The Still Life Florist\n",
       "*   Timeless Arrangements\n",
       "*   Botanical Echoes\n",
       "*   The Everlasting Garden\n",
       "\n",
       "**Emphasizing Natural & Rustic:**\n",
       "\n",
       "*   Wild & Dried\n",
       "*   The Dried Meadow\n",
       "*   Rustic Blooms\n",
       "*   Prairie Petals\n",
       "*   Harvest Hues\n",
       "*   Sunbaked Stems\n",
       "*   Nature's Embrace (Dried)\n",
       "\n",
       "**Modern & Chic:**\n",
       "\n",
       "*   Dried & Dusted\n",
       "*   The Dried Edit\n",
       "*   Bloom & Preserve\n",
       "*   Modern Dried\n",
       "*   The Dry Spell\n",
       "*   Unfading Florals\n",
       "\n",
       "**Playful & Creative:**\n",
       "\n",
       "*   Petrified Petals\n",
       "*   The Dried Flower Bar\n",
       "*   Bloom Room Dry\n",
       "*   Dust & Bloom\n",
       "*   The Upcycled Urn\n",
       "*   The Forgotten Bouquet\n",
       "*   Flower Bones\n",
       "\n",
       "**Location-Based (If Applicable):**\n",
       "\n",
       "*   [Town/Region] Dried Florals\n",
       "*   [Street Name] Blooms\n",
       "\n",
       "**Tips for Choosing:**\n",
       "\n",
       "*   **Say it out loud:** Does it sound good? Is it easy to pronounce and remember?\n",
       "*   **Check availability:** Is the name (and a website domain) available?\n",
       "*   **Consider your target audience:** Does the name appeal to the customers you want to attract?\n",
       "*   **Reflect your brand:** Does the name capture the style and personality of your shop?\n",
       "\n",
       "I hope this gives you a good starting point! Good luck!\n"
      ],
      "text/plain": [
       "<IPython.core.display.Markdown object>"
      ]
     },
     "metadata": {},
     "output_type": "display_data"
    }
   ],
   "source": [
    "prompt = \"Suggest a name for a flower shop that sells bouquets of dried flowers\"\n",
    "\n",
    "response = client.models.generate_content(model=MODEL_ID, contents=prompt)\n",
    "display(Markdown(response.text))"
   ]
  },
  {
   "cell_type": "markdown",
   "metadata": {
    "id": "eXTAvdOHY0OC",
    "tags": []
   },
   "source": [
    "### Be specific, and well-defined"
   ]
  },
  {
   "cell_type": "markdown",
   "metadata": {
    "id": "FTH4GEIgY1dp"
   },
   "source": [
    "Suppose that you want to brainstorm creative ways to describe Earth."
   ]
  },
  {
   "cell_type": "markdown",
   "metadata": {
    "id": "o5BmXBiGY4KC"
   },
   "source": [
    "🛑 The prompt below might be a bit too generic (which is certainly OK if you'd like to ask a generic question!)"
   ]
  },
  {
   "cell_type": "code",
   "execution_count": 10,
   "metadata": {
    "id": "eHBaMvv7Y6mR",
    "tags": []
   },
   "outputs": [
    {
     "data": {
      "text/markdown": [
       "Okay, let's dive into the fascinating world of our home, planet Earth!  Here's a breakdown of key facts and aspects:\n",
       "\n",
       "**Basic Facts:**\n",
       "\n",
       "*   **Name:** Earth (The only planet not named after a Greek or Roman god).\n",
       "*   **Third Planet from the Sun:** Positioned between Venus and Mars.\n",
       "*   **Diameter:** About 12,742 kilometers (7,918 miles).\n",
       "*   **Circumference:** Roughly 40,075 kilometers (24,901 miles).\n",
       "*   **Mass:** Approximately 5.97 x 10^24 kilograms.\n",
       "*   **Density:** The densest planet in our solar system.\n",
       "*   **Orbit:** Takes 365.25 days to orbit the Sun (hence the need for leap years).\n",
       "*   **Rotation:** Takes approximately 24 hours to rotate on its axis (giving us day and night).\n",
       "*   **Tilt:** Axial tilt of about 23.5 degrees, responsible for seasons.\n",
       "*   **One Moon:** Called \"the Moon\" (Luna).\n",
       "*   **Atmosphere:** Primarily composed of nitrogen (about 78%) and oxygen (about 21%), with small amounts of other gases like argon, carbon dioxide, and trace gases.\n",
       "*   **Surface:** About 71% covered by water (oceans, seas, lakes, rivers), and 29% land (continents and islands).\n",
       "\n",
       "**Key Characteristics & Features:**\n",
       "\n",
       "*   **Habitable Zone:** Earth resides in the \"Goldilocks zone\" around the Sun, meaning it's at a distance where temperatures allow liquid water to exist on the surface. This is crucial for life as we know it.\n",
       "\n",
       "*   **Liquid Water:** The abundance of liquid water is a defining feature of Earth and essential for life. Oceans play a vital role in regulating temperature, weather patterns, and supporting diverse ecosystems.\n",
       "\n",
       "*   **Atmosphere:**\n",
       "    *   **Protection:** Shields us from harmful solar radiation (UV rays) and cosmic rays.\n",
       "    *   **Temperature Regulation:** Creates a greenhouse effect, trapping some of the Sun's heat and keeping the planet warm enough for life.\n",
       "    *   **Breathing:** Provides the air we breathe.\n",
       "\n",
       "*   **Magnetic Field:** Generated by the movement of molten iron in Earth's outer core. This field deflects the solar wind, protecting the atmosphere from being stripped away.\n",
       "\n",
       "*   **Plate Tectonics:** Earth's surface is divided into large plates that are constantly moving. This movement causes earthquakes, volcanic activity, and the formation of mountains and ocean trenches. It also plays a crucial role in the carbon cycle and long-term climate regulation.\n",
       "\n",
       "*   **Life:** The only known planet to harbor life. Earth boasts an incredible diversity of organisms, from microscopic bacteria to giant whales, occupying a wide range of habitats.\n",
       "\n",
       "*   **Geological Activity:** Active volcanism, earthquakes, and erosion shape the Earth's surface.\n",
       "\n",
       "**Internal Structure:**\n",
       "\n",
       "Earth has a layered structure:\n",
       "\n",
       "*   **Crust:** The outermost solid layer, divided into oceanic and continental crust.\n",
       "*   **Mantle:** A thick, mostly solid layer beneath the crust, making up the majority of Earth's volume.\n",
       "*   **Outer Core:** A liquid layer composed mainly of iron and nickel.  Its movement generates Earth's magnetic field.\n",
       "*   **Inner Core:** A solid sphere composed primarily of iron and nickel, under immense pressure.\n",
       "\n",
       "**Earth's Systems:**\n",
       "\n",
       "Earth is a complex system with interconnected components:\n",
       "\n",
       "*   **Atmosphere:** The gaseous envelope surrounding the planet.\n",
       "*   **Hydrosphere:** All the water on Earth (oceans, lakes, rivers, ice, groundwater).\n",
       "*   **Lithosphere:** The solid outer layer of Earth (crust and upper mantle).\n",
       "*   **Biosphere:** All living organisms and their interactions with the environment.\n",
       "\n",
       "**Important Processes:**\n",
       "\n",
       "*   **Water Cycle:** The continuous movement of water between the atmosphere, oceans, land, and living things.\n",
       "*   **Carbon Cycle:** The cycling of carbon through the atmosphere, oceans, land, and living organisms.\n",
       "*   **Nitrogen Cycle:** The cycling of nitrogen through the environment.\n",
       "*   **Plate Tectonics:** The movement of Earth's plates, which shapes the surface and influences geological activity.\n",
       "\n",
       "**Human Impact:**\n",
       "\n",
       "Human activities are significantly impacting Earth's environment:\n",
       "\n",
       "*   **Climate Change:** Primarily caused by the burning of fossil fuels, leading to increased greenhouse gas concentrations and rising global temperatures.\n",
       "*   **Deforestation:** Clearing forests for agriculture, development, and other purposes.\n",
       "*   **Pollution:** Contamination of air, water, and soil with harmful substances.\n",
       "*   **Biodiversity Loss:** Decline in the number and variety of species on Earth.\n",
       "\n",
       "**Why Study Earth?**\n",
       "\n",
       "Understanding Earth's systems, processes, and history is crucial for:\n",
       "\n",
       "*   **Predicting and mitigating natural disasters:** Earthquakes, volcanic eruptions, floods, etc.\n",
       "*   **Managing resources sustainably:** Water, minerals, energy.\n",
       "*   **Addressing climate change:** Developing strategies to reduce greenhouse gas emissions and adapt to a changing climate.\n",
       "*   **Understanding the origin and evolution of life:**  Earth serves as our primary example of a habitable planet.\n",
       "*   **Searching for life beyond Earth:**  Learning about the conditions that make a planet habitable.\n",
       "\n",
       "**In Conclusion:**\n",
       "\n",
       "Earth is a dynamic, complex, and precious planet.  Its unique combination of features makes it the only known place in the universe where life exists. Understanding and protecting our planet is essential for the well-being of current and future generations.\n",
       "\n",
       "Do you have any specific questions about Earth that you'd like me to answer in more detail? For example, are you interested in:\n",
       "\n",
       "*   The geological history of Earth?\n",
       "*   The different types of ecosystems on Earth?\n",
       "*   The challenges of climate change?\n",
       "*   Earth's place in the solar system and the universe?\n"
      ],
      "text/plain": [
       "<IPython.core.display.Markdown object>"
      ]
     },
     "metadata": {},
     "output_type": "display_data"
    }
   ],
   "source": [
    "prompt = \"Tell me about Earth\"\n",
    "\n",
    "response = client.models.generate_content(model=MODEL_ID, contents=prompt)\n",
    "display(Markdown(response.text))"
   ]
  },
  {
   "cell_type": "markdown",
   "metadata": {
    "id": "4iyvEbteZnFL"
   },
   "source": [
    "✅ Recommended. The prompt below is specific and well-defined."
   ]
  },
  {
   "cell_type": "code",
   "execution_count": 11,
   "metadata": {
    "id": "JQ80z8urZnne",
    "tags": []
   },
   "outputs": [
    {
     "data": {
      "text/markdown": [
       "Okay, here's a list of ways Earth is unique compared to other planets we know of, broken down into categories:\n",
       "\n",
       "**I.  Habitability & Life:**\n",
       "\n",
       "*   **Abundant Liquid Water on the Surface:** This is arguably the most defining feature.  No other planet in our solar system (or, as far as we currently know, any exoplanet) has stable bodies of liquid water covering a significant portion of its surface. This is crucial for life as we know it.\n",
       "*   **Presence of Life:**  We know life exists on Earth.  We have yet to find definitive evidence of life on any other planet.  Earth is the only confirmed inhabited planet.\n",
       "*   **Oxygen-Rich Atmosphere:** Earth's atmosphere is about 21% oxygen, a direct result of photosynthetic life. This level of oxygen is unique and allows for complex, energy-intensive life forms (like animals) to thrive.  While some exoplanets may have oxygen, it's unlikely to be at the same sustained levels.\n",
       "*   **Plate Tectonics (Active):** While other planets may have or have had tectonic activity, Earth is the only known planet with a robust, *active* system of plate tectonics. This process is vital for the carbon cycle, regulating temperature, and creating diverse geological features.\n",
       "*   **A Strong Magnetic Field:** Generated by the Earth's molten iron core, the magnetic field deflects harmful solar radiation and cosmic rays, protecting life.  While other planets have magnetic fields, Earth's is particularly strong and stable.\n",
       "*   **Relatively Stable Climate:** While Earth has experienced climate changes throughout its history, it has maintained a relatively stable temperature range that allows for liquid water and life to persist for billions of years. This stability is a result of a complex interplay of factors, including the atmosphere, oceans, and geological processes.\n",
       "\n",
       "**II.  Geological Features:**\n",
       "\n",
       "*   **Diverse and Varied Landscapes:** Earth exhibits an incredible range of geological features, including towering mountains, deep ocean trenches, vast plains, active volcanoes, and ice sheets.  This diversity is a result of plate tectonics, erosion, and other geological processes.\n",
       "*   **Evidence of Past and Present Geological Activity:** Earth shows clear signs of ongoing geological activity, including earthquakes, volcanic eruptions, and mountain building. This activity shapes the planet's surface and influences its climate.\n",
       "*   **Complex Carbon Cycle:** The movement of carbon through Earth's atmosphere, oceans, land, and living organisms is a complex and interconnected process. This cycle plays a vital role in regulating Earth's temperature and supporting life.\n",
       "*   **Continents and Oceans:** Earth is the only known planet with distinct continents and large, interconnected oceans. This division of land and water has a profound impact on the planet's climate, weather patterns, and distribution of life.\n",
       "\n",
       "**III.  Atmospheric Characteristics:**\n",
       "\n",
       "*   **Atmospheric Composition:**  As mentioned above, the specific composition of Earth's atmosphere (nitrogen, oxygen, argon, trace gases) is unique and crucial for maintaining a habitable environment.\n",
       "*   **Ozone Layer:**  The ozone layer in Earth's stratosphere absorbs harmful ultraviolet (UV) radiation from the sun, protecting life from its damaging effects.\n",
       "*   **Troposphere, Stratosphere, Mesosphere, Thermosphere, Exosphere:** Earth has a very distinct atmospheric structure compared to many other planets.\n",
       "\n",
       "**IV.  Orbital Characteristics:**\n",
       "\n",
       "*   **Goldilocks Zone Location:** Earth orbits the Sun within the \"habitable zone\" (or \"Goldilocks zone\"), where temperatures are just right for liquid water to exist on the surface. While other planets may be in habitable zones, Earth's other characteristics make it uniquely suited for life.\n",
       "*   **Single Large Moon:** Earth's relatively large moon has a stabilizing effect on Earth's axial tilt, preventing extreme climate variations. The Moon also influences tides and may have played a role in the early development of life.\n",
       "\n",
       "**V. Advanced Civilization (So Far):**\n",
       "\n",
       "*   **Technological Civilization:** Earth is the only place in the universe where we know an advanced, technological civilization has arisen. This is a significant, albeit potentially temporary, distinction.\n",
       "\n",
       "**Important Considerations:**\n",
       "\n",
       "*   **Limited Data:** Our understanding of exoplanets is still relatively limited.  We are discovering new exoplanets all the time, and future observations may reveal planets with characteristics similar to Earth.\n",
       "*   **\"Unique\" is Relative:**  While Earth possesses a unique combination of features, it's possible that other planets in the universe may share some of these characteristics.  However, the specific combination is what makes Earth so special.\n",
       "*   **Ongoing Research:** Scientists are constantly researching and learning more about Earth and other planets.  Our understanding of what makes Earth unique is likely to evolve over time.\n"
      ],
      "text/plain": [
       "<IPython.core.display.Markdown object>"
      ]
     },
     "metadata": {},
     "output_type": "display_data"
    }
   ],
   "source": [
    "prompt = \"Generate a list of ways that makes Earth unique compared to other planets\"\n",
    "\n",
    "response = client.models.generate_content(model=MODEL_ID, contents=prompt)\n",
    "display(Markdown(response.text))"
   ]
  },
  {
   "cell_type": "markdown",
   "metadata": {
    "id": "R5kmfZYHZsJ7"
   },
   "source": [
    "### Ask one task at a time"
   ]
  },
  {
   "cell_type": "markdown",
   "metadata": {
    "id": "rsAezxeYZuUN"
   },
   "source": [
    "🛑 Not recommended. The prompt below has two parts to the question that could be asked separately."
   ]
  },
  {
   "cell_type": "code",
   "execution_count": 12,
   "metadata": {
    "id": "ElywPXpuZtWf",
    "tags": []
   },
   "outputs": [
    {
     "data": {
      "text/markdown": [
       "Okay, let's tackle both of these questions.\n",
       "\n",
       "**Best Method of Boiling Water**\n",
       "\n",
       "\"Best\" is subjective and depends on your priorities. Here's a breakdown of common methods and their pros/cons:\n",
       "\n",
       "*   **Electric Kettle:**\n",
       "    *   **Pros:**  Fastest (often), energy-efficient (when compared to stovetop), convenient (auto shut-off), safe (typically), precise temperature control (on some models).\n",
       "    *   **Cons:** Requires electricity, can be bulky, some models have limited capacity.\n",
       "    *   **Ideal for:** Quick cups of tea/coffee, small amounts of water, situations where speed and convenience are paramount.\n",
       "\n",
       "*   **Stovetop Kettle (Whistling Kettle):**\n",
       "    *   **Pros:**  No electricity needed (can be used on gas, electric, or induction stoves), durable, classic look, the whistle is a clear indicator.\n",
       "    *   **Cons:** Can be slower than electric kettles, requires monitoring to prevent boiling dry, can be less energy efficient (especially on electric stoves).\n",
       "    *   **Ideal for:** Situations where electricity is unavailable or unreliable, those who prefer a traditional method, larger quantities of water.\n",
       "\n",
       "*   **Stovetop Pot (Open Pot):**\n",
       "    *   **Pros:**  Most versatile (any pot will do), good for large quantities of water (e.g., for pasta).\n",
       "    *   **Cons:** Least energy efficient, slowest, requires constant monitoring to prevent boiling dry, no auto shut-off, steam can be hazardous.\n",
       "    *   **Ideal for:** Boiling large amounts of water for cooking, when a kettle is not available.\n",
       "\n",
       "*   **Microwave:**\n",
       "    *   **Pros:** Fast for small amounts of water, convenient.\n",
       "    *   **Cons:** Can be uneven heating (leading to superheating and potential for explosive boiling when disturbed), not ideal for large amounts, can impart a slightly metallic taste.\n",
       "    *   **Ideal for:** Quickly heating a single cup of water. Use with caution.\n",
       "\n",
       "*   **Induction Cooktop with Pot/Kettle:**\n",
       "    *   **Pros:** Very fast heating, energy efficient, precise temperature control (depending on the cooktop), safer than gas or electric coil stovetops.\n",
       "    *   **Cons:** Requires induction-compatible cookware, can be expensive.\n",
       "    *   **Ideal for:** Those seeking a fast, efficient, and safe stovetop method.\n",
       "\n",
       "**In summary:**\n",
       "\n",
       "*   **For Speed and Efficiency:** Electric Kettle or Induction\n",
       "*   **For No Electricity:** Stovetop Kettle (Gas)\n",
       "*   **For Large Quantities:** Stovetop Pot\n",
       "*   **For Small Quantities & Caution:** Microwave\n",
       "\n",
       "**Why is the Sky Blue?**\n",
       "\n",
       "The sky is blue because of a phenomenon called **Rayleigh scattering**. Here's the explanation:\n",
       "\n",
       "1.  **Sunlight's Composition:** Sunlight is made up of all the colors of the rainbow.\n",
       "\n",
       "2.  **Entering the Atmosphere:** When sunlight enters the Earth's atmosphere, it collides with tiny air molecules (mostly nitrogen and oxygen).\n",
       "\n",
       "3.  **Scattering:** This collision causes the light to scatter in different directions.  Rayleigh scattering is most effective when the particles (air molecules) are much smaller than the wavelength of the light.\n",
       "\n",
       "4.  **Wavelength and Scattering:** Shorter wavelengths of light (blue and violet) are scattered much more strongly than longer wavelengths (red and orange).  The amount of scattering is inversely proportional to the fourth power of the wavelength. This means blue light is scattered about ten times more than red light.\n",
       "\n",
       "5.  **Why Not Violet?** Violet light is scattered even *more* than blue light. However, there are a couple of reasons why we see a blue sky:\n",
       "    *   **Sun's Output:** The sun emits less violet light than blue light.\n",
       "    *   **Atmospheric Absorption:** Some violet light is absorbed by the upper atmosphere.\n",
       "    *   **Our Eyes:** Our eyes are also more sensitive to blue light than violet light.\n",
       "\n",
       "6.  **Our Perception:** Because blue light is scattered the most and there's more of it present than violet after absorption, we see the sky as blue.\n",
       "\n",
       "**Sunrise and Sunset:**\n",
       "\n",
       "At sunrise and sunset, the sunlight has to travel through much more of the atmosphere to reach our eyes.  This means that most of the blue light is scattered away before it reaches us.  The longer wavelengths of light (red, orange, and yellow) are less easily scattered and can pass through the atmosphere more readily. This is why sunsets and sunrises often appear red, orange, or yellow.\n"
      ],
      "text/plain": [
       "<IPython.core.display.Markdown object>"
      ]
     },
     "metadata": {},
     "output_type": "display_data"
    }
   ],
   "source": [
    "prompt = \"What's the best method of boiling water and why is the sky blue?\"\n",
    "\n",
    "response = client.models.generate_content(model=MODEL_ID, contents=prompt)\n",
    "display(Markdown(response.text))"
   ]
  },
  {
   "cell_type": "markdown",
   "metadata": {
    "id": "ejzahazBZ8vk"
   },
   "source": [
    "✅ Recommended. The prompts below asks one task a time."
   ]
  },
  {
   "cell_type": "code",
   "execution_count": 13,
   "metadata": {
    "id": "C5ckp2F0Z_Ba",
    "tags": []
   },
   "outputs": [
    {
     "data": {
      "text/markdown": [
       "The \"best\" method of boiling water depends on your priorities and available resources. Here's a breakdown of common methods, with their pros and cons:\n",
       "\n",
       "**1. Electric Kettle:**\n",
       "\n",
       "*   **Pros:**\n",
       "    *   **Fastest:** Generally boils water the quickest, especially small quantities.\n",
       "    *   **Convenient:** Easy to use, often with automatic shut-off.\n",
       "    *   **Energy Efficient (for small amounts):** Usually heats only the water needed, minimizing wasted energy if you only need a cup or two.\n",
       "    *   **Precise Temperature Control (some models):** Ideal for specific types of tea or coffee that require specific temperatures.\n",
       "    *   **Relatively Safe:** Often has safety features like automatic shut-off and cool-touch exteriors.\n",
       "*   **Cons:**\n",
       "    *   **Requires Electricity:** Useless without a power source.\n",
       "    *   **Can't be used in a survival situation:** Dependent on electricity\n",
       "    *   **Can be bulky:** Takes up counter space.\n",
       "    *   **Can be noisy:** Some kettles can be quite loud while boiling.\n",
       "\n",
       "**2. Stovetop (Pot or Kettle):**\n",
       "\n",
       "*   **Pros:**\n",
       "    *   **Versatile:** Works on gas, electric, induction, or even a camping stove.\n",
       "    *   **No Electricity Required (for gas stoves):** Great for power outages or camping.\n",
       "    *   **Can boil large quantities:** Good for cooking pasta, making stock, etc.\n",
       "    *   **Usually durable:** A good quality pot or kettle can last a long time.\n",
       "*   **Cons:**\n",
       "    *   **Slower than electric kettles:** Especially on electric stoves.\n",
       "    *   **Less Energy Efficient (for small amounts):** You might heat more water than you need.\n",
       "    *   **Requires monitoring:** You need to watch it to prevent boil-over.\n",
       "    *   **Can be dangerous:** Hot surfaces can cause burns.\n",
       "\n",
       "**3. Microwave:**\n",
       "\n",
       "*   **Pros:**\n",
       "    *   **Fast (for small amounts):** Can be quick for heating a single cup of water.\n",
       "    *   **Convenient:** Easy to use.\n",
       "*   **Cons:**\n",
       "    *   **Uneven Heating:** Water can become superheated (above boiling point but not bubbling) and explode when disturbed, posing a burn hazard.  **Always add a wooden stirrer or chopstick to the water before microwaving to help prevent superheating.**\n",
       "    *   **Not recommended for large quantities:** Inefficient and can damage the microwave.\n",
       "    *   **Can impart a metallic taste (depending on the container):** Use microwave-safe containers.\n",
       "    *   **Not very energy efficient:** Microwaves are generally less energy-efficient than kettles.\n",
       "\n",
       "**4. Camping Stove:**\n",
       "\n",
       "*   **Pros:**\n",
       "    *   **Portable:** Designed for outdoor use.\n",
       "    *   **Independent of electricity:** Uses propane, butane, or other fuel.\n",
       "*   **Cons:**\n",
       "    *   **Slower than kettles:** Takes longer to boil water.\n",
       "    *   **Requires fuel:** You need to have a supply of fuel.\n",
       "    *   **Can be bulky:** Some camping stoves can be quite large.\n",
       "    *   **Requires careful handling:** Fire safety is crucial.\n",
       "\n",
       "**5. Solar Oven/Solar Water Heater:**\n",
       "\n",
       "*   **Pros:**\n",
       "    *   **Environmentally Friendly:** Uses free solar energy.\n",
       "    *   **No fuel required:** Saves money and resources.\n",
       "*   **Cons:**\n",
       "    *   **Very Slow:** Takes a long time to boil water.\n",
       "    *   **Weather Dependent:** Only works in sunny conditions.\n",
       "    *   **Not suitable for large quantities:** Typically heats smaller amounts of water.\n",
       "    *   **Requires specialized equipment:** You need a solar oven or water heater.\n",
       "\n",
       "**Summary Table:**\n",
       "\n",
       "| Method         | Speed      | Convenience | Energy Efficiency (small amount) | Energy Efficiency (large amount) | Portability | Safety      |  Considerations                                 |\n",
       "| -------------- | ---------- | ----------- | ------------------------------- | -------------------------------- | ----------- | ----------- | ----------------------------------------------- |\n",
       "| Electric Kettle| Fastest     | High        | High                           | Lower                             | Low         | High        | Requires electricity, potential temperature control |\n",
       "| Stovetop       | Medium      | Medium      | Low                            | Medium                            | Low         | Medium      | Requires monitoring, versatile                |\n",
       "| Microwave      | Fast (small)| High        | Low                            | Not Recommended                  | Low         | Low         | Superheating risk, uneven heating            |\n",
       "| Camping Stove  | Slow       | Medium      | Low                            | Medium                            | High        | Medium      | Requires fuel, for outdoor use                 |\n",
       "| Solar Oven     | Very Slow  | Low         | High                           | Low                             | Medium      | High        | Weather dependent, slow                       |\n",
       "\n",
       "**So, which is \"best\"?**\n",
       "\n",
       "*   **For speed and convenience at home:** An **electric kettle** is generally the best choice.\n",
       "*   **For versatility and cooking on the stovetop:** A good **stovetop pot or kettle** is ideal.\n",
       "*   **For emergencies or camping:** A **gas stove** is the most reliable.\n",
       "\n",
       "**Important Note on Water Quality:** If you are boiling water for purification purposes (e.g., to kill bacteria and viruses), bring the water to a rolling boil for at least 1 minute (3 minutes at altitudes above 6,500 feet).  This applies regardless of the method you use to boil the water.\n"
      ],
      "text/plain": [
       "<IPython.core.display.Markdown object>"
      ]
     },
     "metadata": {},
     "output_type": "display_data"
    }
   ],
   "source": [
    "prompt = \"What's the best method of boiling water?\"\n",
    "\n",
    "response = client.models.generate_content(model=MODEL_ID, contents=prompt)\n",
    "display(Markdown(response.text))"
   ]
  },
  {
   "cell_type": "code",
   "execution_count": 14,
   "metadata": {
    "id": "KwUzhud4aA89",
    "tags": []
   },
   "outputs": [
    {
     "data": {
      "text/markdown": [
       "The sky is blue because of a phenomenon called **Rayleigh scattering**. Here's the breakdown:\n",
       "\n",
       "*   **Sunlight and the Atmosphere:** Sunlight is made up of all the colors of the rainbow. When sunlight enters the Earth's atmosphere, it collides with air molecules (mostly nitrogen and oxygen).\n",
       "\n",
       "*   **Scattering of Light:** This collision causes the light to scatter in different directions.  Shorter wavelengths of light (like blue and violet) are scattered more strongly than longer wavelengths (like red and orange).\n",
       "\n",
       "*   **Why Blue Dominates:** While violet is scattered the most, our eyes are more sensitive to blue, and there's a bit more blue light in sunlight to begin with. Also, some of the violet light gets absorbed by the upper atmosphere.  Therefore, we see a predominantly blue sky.\n",
       "\n",
       "*   **Sunrise and Sunset:** At sunrise and sunset, the sunlight has to travel through a much larger portion of the atmosphere to reach our eyes. This means the blue light has been scattered away, leaving the longer wavelengths like orange and red to dominate the sky. That's why sunrises and sunsets are often colorful.\n",
       "\n",
       "**In simpler terms:**\n",
       "\n",
       "Imagine throwing a bunch of marbles (sunlight) at a group of bowling pins (air molecules). The smaller marbles (blue light) are more likely to bounce off in random directions, while the bigger marbles (red light) are more likely to keep going straight. Since the blue light is bouncing around everywhere, that's the color we see when we look up at the sky.\n"
      ],
      "text/plain": [
       "<IPython.core.display.Markdown object>"
      ]
     },
     "metadata": {},
     "output_type": "display_data"
    }
   ],
   "source": [
    "prompt = \"Why is the sky blue?\"\n",
    "\n",
    "response = client.models.generate_content(model=MODEL_ID, contents=prompt)\n",
    "display(Markdown(response.text))"
   ]
  },
  {
   "cell_type": "markdown",
   "metadata": {
    "id": "PJIL2RTQaGcT"
   },
   "source": [
    "### Watch out for hallucinations"
   ]
  },
  {
   "cell_type": "markdown",
   "metadata": {
    "id": "8Y8kYxrSaHE9"
   },
   "source": [
    "Although LLMs have been trained on a large amount of data, they can generate text containing statements not grounded in truth or reality; these responses from the LLM are often referred to as \"hallucinations\" due to their limited memorization capabilities. Note that simply prompting the LLM to provide a citation isn't a fix to this problem, as there are instances of LLMs providing false or inaccurate citations. Dealing with hallucinations is a fundamental challenge of LLMs and an ongoing research area, so it is important to be cognizant that LLMs may seem to give you confident, correct-sounding statements that are in fact incorrect.\n",
    "\n",
    "Note that if you intend to use LLMs for the creative use cases, hallucinating could actually be quite useful."
   ]
  },
  {
   "cell_type": "markdown",
   "metadata": {
    "id": "8NY5nAGeaJYS"
   },
   "source": [
    "Try the prompt like the one below repeatedly. We set the temperature to `1.0` so that it takes more risks in its choices. It's possible that it may provide an inaccurate, but confident answer."
   ]
  },
  {
   "cell_type": "code",
   "execution_count": 16,
   "metadata": {
    "id": "QALPjEILaM62",
    "tags": []
   },
   "outputs": [
    {
     "data": {
      "text/markdown": [
       "Today is Wednesday, May 1, 2024.\n"
      ],
      "text/plain": [
       "<IPython.core.display.Markdown object>"
      ]
     },
     "metadata": {},
     "output_type": "display_data"
    }
   ],
   "source": [
    "generation_config = GenerateContentConfig(temperature=1.0)\n",
    "\n",
    "prompt = \"What day is it today?\"\n",
    "\n",
    "response = client.models.generate_content(model=MODEL_ID, contents=prompt)\n",
    "display(Markdown(response.text))"
   ]
  },
  {
   "cell_type": "markdown",
   "metadata": {
    "id": "BRkwzbgRbhKt"
   },
   "source": [
    "Since LLMs do not have access to real-time information without further integrations, you may have noticed it hallucinates what day it is today in some of the outputs."
   ]
  },
  {
   "cell_type": "markdown",
   "metadata": {},
   "source": [
    "## Reduce Output Variability"
   ]
  },
  {
   "cell_type": "markdown",
   "metadata": {
    "id": "3c811e310d02"
   },
   "source": [
    "### Using system instructions to guardrail the model from irrelevant responses\n",
    "\n",
    "How can we attempt to reduce the chances of irrelevant responses and hallucinations?\n",
    "\n",
    "One way is to provide the LLM with [system instructions](https://cloud.google.com/vertex-ai/generative-ai/docs/multimodal/send-chat-prompts-gemini#system-instructions).\n",
    "\n",
    "Let's see how system instructions works and how you can use them to reduce hallucinations or irrelevant questions for a travel chatbot.\n",
    "\n",
    "Suppose we ask a simple question about one of Italy's most famous tourist spots."
   ]
  },
  {
   "cell_type": "code",
   "execution_count": 17,
   "metadata": {
    "id": "rB6zJU76biFK",
    "tags": []
   },
   "outputs": [
    {
     "data": {
      "text/markdown": [
       "The most popular sightseeing destinations in Milan, Italy are:\n",
       "\n",
       "*   **Duomo di Milano:** The iconic Milan Cathedral, a magnificent example of Gothic architecture.\n",
       "*   **Galleria Vittorio Emanuele II:** A stunning 19th-century glass-covered arcade, home to luxury shops and cafes.\n",
       "*   **Teatro alla Scala:** One of the world's most famous opera houses, with a rich history and stunning performances.\n",
       "*   **Sforza Castle:** A historic castle housing several museums and art collections.\n",
       "*   **Pinacoteca di Brera:** A major art gallery with an extensive collection of Italian paintings.\n",
       "*   **Navigli District:** A charming area with canals, lined with restaurants, bars, and shops.\n",
       "*   **Santa Maria delle Grazie:** A church and UNESCO World Heritage Site, home to Leonardo da Vinci's \"The Last Supper.\"\n",
       "*   **Parco Sempione:** A large park behind the Sforza Castle, perfect for a relaxing stroll."
      ],
      "text/plain": [
       "<IPython.core.display.Markdown object>"
      ]
     },
     "metadata": {},
     "output_type": "display_data"
    }
   ],
   "source": [
    "generation_config = GenerateContentConfig(temperature=1.0)\n",
    "\n",
    "chat = client.chats.create(\n",
    "    model=MODEL_ID,\n",
    "    config=GenerateContentConfig(\n",
    "        system_instruction=[\n",
    "            \"Hello! You are an AI chatbot for a travel web site.\",\n",
    "            \"Your mission is to provide helpful queries for travelers.\",\n",
    "            \"Remember that before you answer a question, you must check to see if it complies with your mission.\",\n",
    "            \"If not, you can say, Sorry I can't answer that question.\",\n",
    "        ]\n",
    "    ),\n",
    ")\n",
    "\n",
    "prompt = \"What is the best place for sightseeing in Milan, Italy?\"\n",
    "\n",
    "response = chat.send_message(prompt)\n",
    "display(Markdown(response.text))"
   ]
  },
  {
   "cell_type": "markdown",
   "metadata": {
    "id": "WZa-Qcf9cF4A"
   },
   "source": [
    "Now let us pretend to be a user asks the chatbot a question that is unrelated to travel."
   ]
  },
  {
   "cell_type": "code",
   "execution_count": 19,
   "metadata": {
    "id": "AZKBIDr2cGnu",
    "tags": []
   },
   "outputs": [
    {
     "data": {
      "text/markdown": [
       "The most popular sightseeing destinations in Milan, Italy are:\n",
       "\n",
       "*   **Duomo di Milano:** The iconic Milan Cathedral, a magnificent example of Gothic architecture.\n",
       "*   **Galleria Vittorio Emanuele II:** A stunning 19th-century glass-covered arcade, home to luxury shops and cafes.\n",
       "*   **Teatro alla Scala:** One of the world's most famous opera houses, with a rich history and stunning performances.\n",
       "*   **Sforza Castle:** A historic castle housing several museums and art collections.\n",
       "*   **Pinacoteca di Brera:** A major art gallery with an extensive collection of Italian paintings.\n",
       "*   **Navigli District:** A charming area with canals, lined with restaurants, bars, and shops.\n",
       "*   **Santa Maria delle Grazie:** A church and UNESCO World Heritage Site, home to Leonardo da Vinci's \"The Last Supper.\"\n",
       "*   **Parco Sempione:** A large park behind the Sforza Castle, perfect for a relaxing stroll."
      ],
      "text/plain": [
       "<IPython.core.display.Markdown object>"
      ]
     },
     "metadata": {},
     "output_type": "display_data"
    }
   ],
   "source": [
    "prompt = \"What is the best place for sightseeing in Milan, Italy?\"\n",
    "\n",
    "response = chat.send_message(prompt)\n",
    "display(Markdown(response.text))"
   ]
  },
  {
   "cell_type": "markdown",
   "metadata": {
    "id": "JiUYIhwpctCy"
   },
   "source": [
    "You can see that this way, a guardrail in the prompt prevented the chatbot from veering off course."
   ]
  },
  {
   "cell_type": "markdown",
   "metadata": {
    "id": "ZuuDhA37cvmP"
   },
   "source": [
    "### Turn generative tasks into classification tasks to reduce output variability"
   ]
  },
  {
   "cell_type": "markdown",
   "metadata": {
    "id": "kUCUrsUzczmb"
   },
   "source": [
    "#### Generative tasks lead to higher output variability"
   ]
  },
  {
   "cell_type": "markdown",
   "metadata": {
    "id": "a1xASHAkc46n"
   },
   "source": [
    "The prompt below results in an open-ended response, useful for brainstorming, but response is highly variable."
   ]
  },
  {
   "cell_type": "code",
   "execution_count": 20,
   "metadata": {
    "id": "nPfXQWIacwRf",
    "tags": []
   },
   "outputs": [
    {
     "data": {
      "text/markdown": [
       "Okay, to give you the best recommendation, I need a little more information. Tell me:\n",
       "\n",
       "1.  **What programming languages are you familiar with?** (e.g., Python, Java, JavaScript, C++, etc.)\n",
       "2.  **What are your interests?** (e.g., web development, game development, data science, AI, robotics, general problem-solving)\n",
       "3.  **What's your current skill level in the language(s) you know?**  (e.g., Beginner: I know basic syntax; Intermediate: I can build simple programs; Advanced: I can work with complex data structures and algorithms)\n",
       "4.  **How much time are you willing to dedicate to this activity?** (e.g., a few hours a week, a larger project over a month)\n",
       "\n",
       "In the meantime, here are some general ideas based on common interests and skill levels, categorized by language:\n",
       "\n",
       "**Python (Great for beginners and beyond):**\n",
       "\n",
       "*   **Beginner - Intermediate:**\n",
       "    *   **Number Guessing Game:** Create a simple game where the computer picks a random number and the user has to guess it. Give hints (higher/lower).  This reinforces input/output, loops, and conditional statements.\n",
       "    *   **Simple Calculator:** Build a calculator that can perform basic arithmetic operations (+, -, \\*, /).  This reinforces user input, functions, and error handling.\n",
       "    *   **To-Do List Application:** Create a command-line to-do list application that allows users to add, view, and remove items.  This introduces lists, loops, and basic file I/O (optional: save/load to a text file).\n",
       "    *   **Text-Based Adventure Game:** A very simple text-based game where the user makes choices that affect the story. Focus on branching logic using `if/else` statements.\n",
       "\n",
       "*   **Intermediate - Advanced:**\n",
       "    *   **Web Scraping:** Use libraries like `requests` and `Beautiful Soup` to extract data from websites. (Make sure to respect website robots.txt and terms of service). This will improve your skills in handling HTTP requests and parsing HTML.\n",
       "    *   **Data Analysis with Pandas:** Download a dataset (e.g., from Kaggle) and use the Pandas library to explore and analyze the data. Visualize your findings using Matplotlib or Seaborn.  This introduces data manipulation, cleaning, and visualization.\n",
       "    *   **Machine Learning with Scikit-learn:**  Start with a simple classification problem like classifying iris flowers or predicting housing prices using linear regression. This introduces machine learning concepts and the Scikit-learn library.\n",
       "    *   **Simple Web Application with Flask or Django:** Create a basic web application (e.g., a blog, a task manager) using a Python web framework like Flask (simpler) or Django (more feature-rich).  This introduces web development concepts, routing, and templates.\n",
       "\n",
       "**Java (Good for object-oriented programming):**\n",
       "\n",
       "*   **Beginner - Intermediate:**\n",
       "    *   **Text-Based Game (e.g., Tic-Tac-Toe, Hangman):**  This reinforces object-oriented principles (creating classes for the game board, players, etc.), input/output, and conditional statements.\n",
       "    *   **Simple GUI Application (using Swing or JavaFX):** Create a basic GUI application with buttons, text fields, and labels.  This introduces event handling and graphical user interface development.\n",
       "    *   **Basic Data Structures and Algorithms Implementation:** Implement common data structures like linked lists, stacks, queues, or algorithms like sorting algorithms (bubble sort, insertion sort).\n",
       "\n",
       "*   **Intermediate - Advanced:**\n",
       "    *   **Simple Database Application:** Create a Java application that interacts with a database (e.g., MySQL, PostgreSQL) to store and retrieve data. This introduces database concepts and JDBC.\n",
       "    *   **Multithreaded Application:** Create an application that uses multiple threads to perform tasks concurrently (e.g., downloading files in parallel).  This introduces concurrency concepts.\n",
       "    *   **Game Development with LibGDX:** Use the LibGDX framework to create a 2D game.\n",
       "\n",
       "**JavaScript (Essential for web development):**\n",
       "\n",
       "*   **Beginner - Intermediate:**\n",
       "    *   **Interactive Web Page:** Create a web page with interactive elements using JavaScript (e.g., changing the content of an element on button click, validating a form).  This reinforces DOM manipulation and event handling.\n",
       "    *   **Simple Game (e.g., Guessing Game, Simple Calculator):**  You can create simple games directly in the browser using HTML, CSS, and JavaScript.\n",
       "    *   **To-Do List Application:** Create a web-based to-do list application with features like adding, deleting, and marking items as complete.\n",
       "\n",
       "*   **Intermediate - Advanced:**\n",
       "    *   **Single-Page Application (SPA) with React, Vue, or Angular:**  Learn a JavaScript framework or library like React, Vue, or Angular and build a simple SPA (e.g., a blog, a task manager). This introduces component-based development and front-end frameworks.\n",
       "    *   **Node.js Backend:** Learn Node.js and create a simple backend API for your web application using Express.js. This introduces server-side JavaScript and REST APIs.\n",
       "    *   **Data Visualization with D3.js:** Use the D3.js library to create interactive data visualizations in the browser.\n",
       "\n",
       "**C++ (Good for performance-critical applications and systems programming):**\n",
       "\n",
       "*   **Beginner - Intermediate:**\n",
       "    *   **Command-Line Text-Based Game:** Create a simple game like Tic-Tac-Toe or Hangman.\n",
       "    *   **Data Structures Implementation:** Implement data structures such as linked lists, trees, graphs.\n",
       "    *   **Console-Based Application with Menu:** An application that presents a menu of options to the user, allowing them to perform different tasks.\n",
       "\n",
       "*   **Intermediate - Advanced:**\n",
       "    *   **Game Development with SFML or SDL:** Use libraries like SFML or SDL to create 2D games.\n",
       "    *   **Implement a Simple Operating System Kernel:** This is a challenging but rewarding project that will teach you a lot about operating systems and low-level programming.\n",
       "    *   **Parallel Programming with OpenMP or CUDA:** Explore parallel programming techniques to improve the performance of your applications.\n",
       "\n",
       "**General Tips for Choosing and Executing a Project:**\n",
       "\n",
       "*   **Start Small:** Choose a project that is achievable within your timeframe.  You can always add features later.\n",
       "*   **Break it Down:** Divide the project into smaller, manageable tasks.\n",
       "*   **Use Version Control (Git):** Learn how to use Git for version control.  This is essential for tracking changes and collaborating with others.  GitHub, GitLab, and Bitbucket are popular platforms.\n",
       "*   **Document Your Code:** Write comments to explain your code.\n",
       "*   **Test Your Code:** Write unit tests to ensure that your code is working correctly.\n",
       "*   **Don't Be Afraid to Ask for Help:** If you get stuck, don't be afraid to ask for help from online communities or your teachers.  Stack Overflow is a great resource.\n",
       "*   **Focus on Learning:** The most important thing is to learn something new. Don't be afraid to experiment and make mistakes.\n",
       "*   **Have Fun!** Programming should be enjoyable. Choose a project that you are interested in.\n",
       "\n",
       "**Example Breakdown (Python - To-Do List Application):**\n",
       "\n",
       "1.  **Plan:**\n",
       "    *   Features: Add task, view tasks, mark task as complete, delete task.\n",
       "    *   Data structure: List to store tasks.\n",
       "    *   User interface: Command-line.\n",
       "2.  **Code:**\n",
       "    *   Create functions for each feature (add\\_task, view\\_tasks, mark\\_complete, delete\\_task).\n",
       "    *   Use a `while` loop to present the user with options.\n",
       "    *   Use `input()` to get user input.\n",
       "    *   Use `if/elif/else` statements to handle different options.\n",
       "    *   (Optional) Use file I/O to save and load the to-do list.\n",
       "3.  **Test:**\n",
       "    *   Test each function individually.\n",
       "    *   Test the overall application flow.\n",
       "\n",
       "Once you provide more information about your current skills and interests, I can give you a more specific and tailored recommendation! Good luck!\n"
      ],
      "text/plain": [
       "<IPython.core.display.Markdown object>"
      ]
     },
     "metadata": {},
     "output_type": "display_data"
    }
   ],
   "source": [
    "prompt = \"I'm a high school student. Recommend me a programming activity to improve my skills.\"\n",
    "\n",
    "response = client.models.generate_content(model=MODEL_ID, contents=prompt)\n",
    "display(Markdown(response.text))"
   ]
  },
  {
   "cell_type": "markdown",
   "metadata": {
    "id": "iAmm9wPYc_1o"
   },
   "source": [
    "#### Classification tasks reduces output variability"
   ]
  },
  {
   "cell_type": "markdown",
   "metadata": {
    "id": "VvRpK_0GdCpf"
   },
   "source": [
    "The prompt below results in a choice and may be useful if you want the output to be easier to control."
   ]
  },
  {
   "cell_type": "code",
   "execution_count": 21,
   "metadata": {
    "id": "kYDKh0r2dAqo",
    "tags": []
   },
   "outputs": [
    {
     "data": {
      "text/markdown": [
       "Okay, as a high school student, my strong recommendation is **a) Learn Python or b) Learn JavaScript**.  Let's break down why and why *not* Fortran:\n",
       "\n",
       "**Why Python or JavaScript (Strongly Recommended):**\n",
       "\n",
       "*   **High Demand & Versatility:**  Both Python and JavaScript are extremely popular and in-demand in the job market and academic fields. Knowing either significantly boosts your future prospects.\n",
       "\n",
       "*   **Wide Applications:**\n",
       "    *   **Python:** Great for data science, machine learning, scripting, web development (backend), scientific computing, game development, automation, and general-purpose programming. It's used by companies like Google, Netflix, and Spotify.\n",
       "    *   **JavaScript:** Essential for front-end web development (making websites interactive).  It's also used for back-end development (Node.js), mobile app development (React Native), and game development. *Every website* uses JavaScript.\n",
       "\n",
       "*   **Easier to Learn (Relatively):** While all programming languages have their challenges, Python is often considered beginner-friendly due to its clear syntax and readability. JavaScript can be a bit trickier with its asynchronous nature, but it's not overly complex.\n",
       "\n",
       "*   **Tons of Resources:**  Huge online communities, tutorials, courses, and libraries exist for both languages.  You'll easily find help when you get stuck.  Think YouTube, Udemy, Coursera, Stack Overflow, etc.\n",
       "\n",
       "*   **Fun Projects:** You can immediately start building cool projects with both languages.  Python can be used to create simple games, automate tasks, or analyze data.  JavaScript lets you create interactive websites and web applications.\n",
       "\n",
       "**Which of Python vs. JavaScript to Choose?**\n",
       "\n",
       "*   **If you are interested in Data Science, Machine Learning, and Back-end Web development:** Python is likely a better starting point.\n",
       "*   **If you are more interested in making websites interactive and Front-end Web development:** JavaScript is likely a better starting point.\n",
       "*   **You can also learn both!** Many web developers know both Python and JavaScript. Python for the back end (server-side logic) and JavaScript for the front end (what users see and interact with in their browser).\n",
       "\n",
       "**Why Not Fortran (Not Recommended for Most High Schoolers):**\n",
       "\n",
       "*   **Limited Applicability:** Fortran is primarily used in scientific and engineering fields for high-performance computing (e.g., simulations, weather forecasting). Its use is quite niche.\n",
       "*   **Steeper Learning Curve (for modern programming concepts):** Fortran's syntax and paradigms are often considered less modern and can be more difficult to grasp, especially as a first language.\n",
       "*   **Fewer Resources and Opportunities:** Compared to Python and JavaScript, there are significantly fewer online resources, learning materials, and job opportunities for Fortran.\n",
       "*   **Less Relevant to Most Careers:** Unless you *know* you want to be a scientist or engineer specializing in a field that heavily uses Fortran, it's not the best investment of your time as a high schooler.\n",
       "\n",
       "**In summary:**\n",
       "\n",
       "Start with **Python** or **JavaScript**.  They are both excellent choices that will open doors to many possibilities and give you a valuable skill set.  Fortran is a powerful language, but it's too specialized for most high school students.\n"
      ],
      "text/plain": [
       "<IPython.core.display.Markdown object>"
      ]
     },
     "metadata": {},
     "output_type": "display_data"
    }
   ],
   "source": [
    "prompt = \"\"\"I'm a high school student. Which of these activities do you suggest and why:\n",
    "a) learn Python\n",
    "b) learn JavaScript\n",
    "c) learn Fortran\n",
    "\"\"\"\n",
    "\n",
    "response = client.models.generate_content(model=MODEL_ID, contents=prompt)\n",
    "display(Markdown(response.text))"
   ]
  },
  {
   "cell_type": "markdown",
   "metadata": {
    "id": "iTd60b1GdIsx"
   },
   "source": [
    "### Improve response quality by including examples"
   ]
  },
  {
   "cell_type": "markdown",
   "metadata": {
    "id": "yJi44NejdJYE"
   },
   "source": [
    "Another way to improve response quality is to add examples in your prompt. The LLM learns in-context from the examples on how to respond. Typically, one to five examples (shots) are enough to improve the quality of responses. Including too many examples can cause the model to over-fit the data and reduce the quality of responses.\n",
    "\n",
    "Similar to classical model training, the quality and distribution of the examples is very important. Pick examples that are representative of the scenarios that you need the model to learn, and keep the distribution of the examples (e.g. number of examples per class in the case of classification) aligned with your actual distribution."
   ]
  },
  {
   "cell_type": "markdown",
   "metadata": {
    "id": "sMbLginWdOKs"
   },
   "source": [
    "#### Zero-shot prompt"
   ]
  },
  {
   "cell_type": "markdown",
   "metadata": {
    "id": "Crh2Loi2dQ0v"
   },
   "source": [
    "Below is an example of zero-shot prompting, where you don't provide any examples to the LLM within the prompt itself."
   ]
  },
  {
   "cell_type": "code",
   "execution_count": 22,
   "metadata": {
    "id": "-7myRc-SdTQ4",
    "tags": []
   },
   "outputs": [
    {
     "data": {
      "text/markdown": [
       "Positive\n"
      ],
      "text/plain": [
       "<IPython.core.display.Markdown object>"
      ]
     },
     "metadata": {},
     "output_type": "display_data"
    }
   ],
   "source": [
    "prompt = \"\"\"Decide whether a Tweet's sentiment is positive, neutral, or negative.\n",
    "\n",
    "Tweet: I loved the new YouTube video you made!\n",
    "Sentiment:\n",
    "\"\"\"\n",
    "\n",
    "response = client.models.generate_content(model=MODEL_ID, contents=prompt)\n",
    "display(Markdown(response.text))"
   ]
  },
  {
   "cell_type": "markdown",
   "metadata": {
    "id": "ucRtPn9SdL64"
   },
   "source": [
    "#### One-shot prompt"
   ]
  },
  {
   "cell_type": "markdown",
   "metadata": {
    "id": "rs0gQH2vdYBi"
   },
   "source": [
    "Below is an example of one-shot prompting, where you provide one example to the LLM within the prompt to give some guidance on what type of response you want."
   ]
  },
  {
   "cell_type": "code",
   "execution_count": 23,
   "metadata": {
    "id": "iEq-KxGYdaT5",
    "tags": []
   },
   "outputs": [
    {
     "data": {
      "text/markdown": [
       "Sentiment: negative\n"
      ],
      "text/plain": [
       "<IPython.core.display.Markdown object>"
      ]
     },
     "metadata": {},
     "output_type": "display_data"
    }
   ],
   "source": [
    "prompt = \"\"\"Decide whether a Tweet's sentiment is positive, neutral, or negative.\n",
    "\n",
    "Tweet: I loved the new YouTube video you made!\n",
    "Sentiment: positive\n",
    "\n",
    "Tweet: That was awful. Super boring 😠\n",
    "Sentiment:\n",
    "\"\"\"\n",
    "\n",
    "response = client.models.generate_content(model=MODEL_ID, contents=prompt)\n",
    "display(Markdown(response.text))"
   ]
  },
  {
   "cell_type": "markdown",
   "metadata": {
    "id": "JnKLjJzmdfL_"
   },
   "source": [
    "#### Few-shot prompt"
   ]
  },
  {
   "cell_type": "markdown",
   "metadata": {
    "id": "6Zv-9F5OdgI_"
   },
   "source": [
    "Below is an example of few-shot prompting, where you provide a few examples to the LLM within the prompt to give some guidance on what type of response you want."
   ]
  },
  {
   "cell_type": "code",
   "execution_count": 24,
   "metadata": {
    "id": "u37P9tG4dk9S",
    "tags": []
   },
   "outputs": [
    {
     "data": {
      "text/markdown": [
       "Sentiment: positive\n"
      ],
      "text/plain": [
       "<IPython.core.display.Markdown object>"
      ]
     },
     "metadata": {},
     "output_type": "display_data"
    }
   ],
   "source": [
    "prompt = \"\"\"Decide whether a Tweet's sentiment is positive, neutral, or negative.\n",
    "\n",
    "Tweet: I loved the new YouTube video you made!\n",
    "Sentiment: positive\n",
    "\n",
    "Tweet: That was awful. Super boring 😠\n",
    "Sentiment: negative\n",
    "\n",
    "Tweet: Something surprised me about this video - it was actually original. It was not the same old recycled stuff that I always see. Watch it - you will not regret it.\n",
    "Sentiment:\n",
    "\"\"\"\n",
    "\n",
    "response = client.models.generate_content(model=MODEL_ID, contents=prompt)\n",
    "display(Markdown(response.text))"
   ]
  },
  {
   "cell_type": "markdown",
   "metadata": {
    "id": "wDMD3xb2dvX6"
   },
   "source": [
    "#### Choosing between zero-shot, one-shot, few-shot prompting methods"
   ]
  },
  {
   "cell_type": "markdown",
   "metadata": {
    "id": "s92W0YpNdxJp"
   },
   "source": [
    "Which prompt technique to use will solely depends on your goal. The zero-shot prompts are more open-ended and can give you creative answers, while one-shot and few-shot prompts teach the model how to behave so you can get more predictable answers that are consistent with the examples provided."
   ]
  }
 ],
 "metadata": {
  "colab": {
   "name": "intro_prompt_design.ipynb",
   "toc_visible": true
  },
  "environment": {
   "kernel": "conda-base-py",
   "name": "workbench-notebooks.m128",
   "type": "gcloud",
   "uri": "us-docker.pkg.dev/deeplearning-platform-release/gcr.io/workbench-notebooks:m128"
  },
  "kernelspec": {
   "display_name": "Python 3 (ipykernel) (Local)",
   "language": "python",
   "name": "conda-base-py"
  },
  "language_info": {
   "codemirror_mode": {
    "name": "ipython",
    "version": 3
   },
   "file_extension": ".py",
   "mimetype": "text/x-python",
   "name": "python",
   "nbconvert_exporter": "python",
   "pygments_lexer": "ipython3",
   "version": "3.10.16"
  }
 },
 "nbformat": 4,
 "nbformat_minor": 4
}
